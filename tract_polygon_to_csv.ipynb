{
 "cells": [
  {
   "cell_type": "code",
   "execution_count": 2,
   "id": "cc4370a5",
   "metadata": {},
   "outputs": [],
   "source": [
    "import json\n",
    "import csv\n",
    "import os\n",
    "import pandas as pd"
   ]
  },
  {
   "cell_type": "code",
   "execution_count": 11,
   "id": "a25a99e0",
   "metadata": {},
   "outputs": [],
   "source": [
    "# Create the header row and the function that appends rows to the row_list\n",
    "\n",
    "row_list = [['state', 'tract', 'coordinates']]\n",
    "def create_csv_file(name, in_path):  \n",
    "    with open(in_path, 'r+') as f:\n",
    "        data = json.load(f)\n",
    "        tracts = data['features']\n",
    "        for tract in tracts:\n",
    "            output_arr = []\n",
    "            num = tract['properties']['STATEFP'] + tract['properties']['COUNTYFP'] + tract['properties']['TRACTCE']\n",
    "            if num in ['02240000100', '02290000100', '02290000200', '02290000300']:\n",
    "                continue\n",
    "            coords = tract['geometry']['coordinates'][0]\n",
    "            if tract['geometry']['type'] == 'MultiPolygon':\n",
    "                for outer in coords:\n",
    "                    for inner in outer:\n",
    "                        inner.reverse()\n",
    "            else:\n",
    "                for a in coords:\n",
    "                    a.reverse()\n",
    "            output_arr.append(name)\n",
    "            output_arr.append(num)\n",
    "            output_arr.append(str(coords))\n",
    "            row_list.append(output_arr)"
   ]
  },
  {
   "cell_type": "code",
   "execution_count": 12,
   "id": "3bdbd54c",
   "metadata": {},
   "outputs": [],
   "source": [
    "# Loop over all geojson files and pass to the function above\n",
    "geo_path = r'C:\\Users\\kyle2\\Downloads\\2020_tract_files\\2020_tract_files-main\\GeoJsonFiles'\n",
    "\n",
    "lst_of_geoJson = os.listdir(geo_path)\n",
    "\n",
    "for i in lst_of_geoJson:\n",
    "    i_path = geo_path + '\\\\' + i\n",
    "    name = i[:len(i) - 5]\n",
    "    create_csv_file(name, i_path)"
   ]
  },
  {
   "cell_type": "code",
   "execution_count": 5,
   "id": "c1ff06d8",
   "metadata": {},
   "outputs": [],
   "source": [
    "# output the row_list which now contains all data from the geojson files to a csv file\n",
    "\n",
    "with open('tract_poly_with_multipolygons.csv', 'w') as file:\n",
    "     writer = csv.writer(file)\n",
    "     writer.writerows(row_list)"
   ]
  },
  {
   "cell_type": "markdown",
   "id": "65196f6d",
   "metadata": {},
   "source": [
    "### Random Analysis"
   ]
  },
  {
   "cell_type": "code",
   "execution_count": 6,
   "id": "c500dcfc",
   "metadata": {},
   "outputs": [],
   "source": [
    "df = pd.read_csv('tract_poly_with_multipolygons.csv', dtype={'tract': 'string', 'coordinates':'string'})"
   ]
  },
  {
   "cell_type": "code",
   "execution_count": 9,
   "id": "00e54fd7",
   "metadata": {},
   "outputs": [
    {
     "data": {
      "text/html": [
       "<div>\n",
       "<style scoped>\n",
       "    .dataframe tbody tr th:only-of-type {\n",
       "        vertical-align: middle;\n",
       "    }\n",
       "\n",
       "    .dataframe tbody tr th {\n",
       "        vertical-align: top;\n",
       "    }\n",
       "\n",
       "    .dataframe thead th {\n",
       "        text-align: right;\n",
       "    }\n",
       "</style>\n",
       "<table border=\"1\" class=\"dataframe\">\n",
       "  <thead>\n",
       "    <tr style=\"text-align: right;\">\n",
       "      <th></th>\n",
       "      <th>state</th>\n",
       "      <th>tract</th>\n",
       "      <th>coordinates</th>\n",
       "    </tr>\n",
       "  </thead>\n",
       "  <tbody>\n",
       "    <tr>\n",
       "      <th>0</th>\n",
       "      <td>Alabama</td>\n",
       "      <td>01001020100</td>\n",
       "      <td>[[32.505159, -86.488262], [32.503739, -86.4893...</td>\n",
       "    </tr>\n",
       "    <tr>\n",
       "      <th>1</th>\n",
       "      <td>Alabama</td>\n",
       "      <td>01001020200</td>\n",
       "      <td>[[32.489342, -86.478867], [32.48597, -86.47945...</td>\n",
       "    </tr>\n",
       "    <tr>\n",
       "      <th>2</th>\n",
       "      <td>Alabama</td>\n",
       "      <td>01001020300</td>\n",
       "      <td>[[32.489203, -86.46731], [32.485557, -86.46945...</td>\n",
       "    </tr>\n",
       "    <tr>\n",
       "      <th>3</th>\n",
       "      <td>Alabama</td>\n",
       "      <td>01001020400</td>\n",
       "      <td>[[32.480213, -86.435995], [32.482863, -86.4363...</td>\n",
       "    </tr>\n",
       "    <tr>\n",
       "      <th>4</th>\n",
       "      <td>Alabama</td>\n",
       "      <td>01001020501</td>\n",
       "      <td>[[32.460461, -86.434115], [32.459476, -86.4350...</td>\n",
       "    </tr>\n",
       "  </tbody>\n",
       "</table>\n",
       "</div>"
      ],
      "text/plain": [
       "     state        tract                                        coordinates\n",
       "0  Alabama  01001020100  [[32.505159, -86.488262], [32.503739, -86.4893...\n",
       "1  Alabama  01001020200  [[32.489342, -86.478867], [32.48597, -86.47945...\n",
       "2  Alabama  01001020300  [[32.489203, -86.46731], [32.485557, -86.46945...\n",
       "3  Alabama  01001020400  [[32.480213, -86.435995], [32.482863, -86.4363...\n",
       "4  Alabama  01001020501  [[32.460461, -86.434115], [32.459476, -86.4350..."
      ]
     },
     "execution_count": 9,
     "metadata": {},
     "output_type": "execute_result"
    }
   ],
   "source": [
    "df.head()"
   ]
  },
  {
   "cell_type": "code",
   "execution_count": 8,
   "id": "b2d21ecd",
   "metadata": {},
   "outputs": [
    {
     "data": {
      "text/html": [
       "<div>\n",
       "<style scoped>\n",
       "    .dataframe tbody tr th:only-of-type {\n",
       "        vertical-align: middle;\n",
       "    }\n",
       "\n",
       "    .dataframe tbody tr th {\n",
       "        vertical-align: top;\n",
       "    }\n",
       "\n",
       "    .dataframe thead th {\n",
       "        text-align: right;\n",
       "    }\n",
       "</style>\n",
       "<table border=\"1\" class=\"dataframe\">\n",
       "  <thead>\n",
       "    <tr style=\"text-align: right;\">\n",
       "      <th></th>\n",
       "      <th>state</th>\n",
       "      <th>tract</th>\n",
       "      <th>coordinates</th>\n",
       "    </tr>\n",
       "  </thead>\n",
       "  <tbody>\n",
       "    <tr>\n",
       "      <th>77420</th>\n",
       "      <td>Utah</td>\n",
       "      <td>49037978200</td>\n",
       "      <td>[[37.541063, -110.646394], [37.538394, -110.64...</td>\n",
       "    </tr>\n",
       "  </tbody>\n",
       "</table>\n",
       "</div>"
      ],
      "text/plain": [
       "      state        tract                                        coordinates\n",
       "77420  Utah  49037978200  [[37.541063, -110.646394], [37.538394, -110.64..."
      ]
     },
     "execution_count": 8,
     "metadata": {},
     "output_type": "execute_result"
    }
   ],
   "source": [
    "df[df['coordinates'].str.len() == df['coordinates'].str.len().max()]"
   ]
  },
  {
   "cell_type": "code",
   "execution_count": 10,
   "id": "422767b4",
   "metadata": {},
   "outputs": [
    {
     "data": {
      "text/html": [
       "<div>\n",
       "<style scoped>\n",
       "    .dataframe tbody tr th:only-of-type {\n",
       "        vertical-align: middle;\n",
       "    }\n",
       "\n",
       "    .dataframe tbody tr th {\n",
       "        vertical-align: top;\n",
       "    }\n",
       "\n",
       "    .dataframe thead th {\n",
       "        text-align: right;\n",
       "    }\n",
       "</style>\n",
       "<table border=\"1\" class=\"dataframe\">\n",
       "  <thead>\n",
       "    <tr style=\"text-align: right;\">\n",
       "      <th></th>\n",
       "      <th>state</th>\n",
       "      <th>tract</th>\n",
       "      <th>coordinates</th>\n",
       "    </tr>\n",
       "  </thead>\n",
       "  <tbody>\n",
       "    <tr>\n",
       "      <th>464</th>\n",
       "      <td>Alabama</td>\n",
       "      <td>01071950700</td>\n",
       "      <td>[[[34.533633, -86.149806], [34.533634, -86.149...</td>\n",
       "    </tr>\n",
       "  </tbody>\n",
       "</table>\n",
       "</div>"
      ],
      "text/plain": [
       "       state        tract                                        coordinates\n",
       "464  Alabama  01071950700  [[[34.533633, -86.149806], [34.533634, -86.149..."
      ]
     },
     "execution_count": 10,
     "metadata": {},
     "output_type": "execute_result"
    }
   ],
   "source": [
    "df[df['tract'] == '01071950700']"
   ]
  },
  {
   "cell_type": "code",
   "execution_count": 94,
   "id": "b82f0134",
   "metadata": {},
   "outputs": [
    {
     "data": {
      "text/plain": [
       "[]"
      ]
     },
     "execution_count": 94,
     "metadata": {},
     "output_type": "execute_result"
    }
   ],
   "source": [
    "df[df['coordinates'].str.len() >= 65535]['tract'].tolist()"
   ]
  },
  {
   "cell_type": "code",
   "execution_count": 82,
   "id": "c5432066",
   "metadata": {},
   "outputs": [
    {
     "data": {
      "text/plain": [
       "84122"
      ]
     },
     "execution_count": 82,
     "metadata": {},
     "output_type": "execute_result"
    }
   ],
   "source": [
    "len(df)"
   ]
  },
  {
   "cell_type": "code",
   "execution_count": 81,
   "id": "9d727297",
   "metadata": {},
   "outputs": [
    {
     "data": {
      "text/plain": [
       "state          object\n",
       "tract          string\n",
       "coordinates    string\n",
       "dtype: object"
      ]
     },
     "execution_count": 81,
     "metadata": {},
     "output_type": "execute_result"
    }
   ],
   "source": [
    "df.dtypes"
   ]
  },
  {
   "cell_type": "code",
   "execution_count": 86,
   "id": "e7526110",
   "metadata": {},
   "outputs": [
    {
     "data": {
      "text/plain": [
       "state                                                     Alaska\n",
       "tract                                                02290000100\n",
       "coordinates    [[67.999999, -149.32543], [67.998816, -149.326...\n",
       "Name: 1609, dtype: object"
      ]
     },
     "execution_count": 86,
     "metadata": {},
     "output_type": "execute_result"
    }
   ],
   "source": [
    "df.loc[1609]"
   ]
  },
  {
   "cell_type": "code",
   "execution_count": null,
   "id": "f62caba1",
   "metadata": {},
   "outputs": [],
   "source": []
  }
 ],
 "metadata": {
  "kernelspec": {
   "display_name": "Python 3 (ipykernel)",
   "language": "python",
   "name": "python3"
  },
  "language_info": {
   "codemirror_mode": {
    "name": "ipython",
    "version": 3
   },
   "file_extension": ".py",
   "mimetype": "text/x-python",
   "name": "python",
   "nbconvert_exporter": "python",
   "pygments_lexer": "ipython3",
   "version": "3.9.7"
  }
 },
 "nbformat": 4,
 "nbformat_minor": 5
}
