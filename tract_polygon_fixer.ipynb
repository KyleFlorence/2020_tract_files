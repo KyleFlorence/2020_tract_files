{
 "cells": [
  {
   "cell_type": "code",
   "execution_count": 7,
   "id": "cc4370a5",
   "metadata": {},
   "outputs": [],
   "source": [
    "import json"
   ]
  },
  {
   "cell_type": "code",
   "execution_count": 57,
   "id": "cda3484b",
   "metadata": {},
   "outputs": [],
   "source": [
    "def fix_json_file(name, in_path):  \n",
    "    with open(in_path, 'r+') as f:\n",
    "        data = json.load(f)\n",
    "        output_dict = {}\n",
    "        tracts = data['features']\n",
    "        for tract in tracts:\n",
    "            num = tract['properties']['STATEFP'] + tract['properties']['COUNTYFP'] + tract['properties']['TRACTCE']\n",
    "            coords = tract['geometry']['coordinates'][0]\n",
    "            for a in coords:\n",
    "                a.reverse()\n",
    "            output_dict[num] = coords\n",
    "        with open(name + \"_tracts.js\", \"w\") as outfile:\n",
    "            outfile.write(\"const \"+ name + \" = \")\n",
    "            json.dump(output_dict, outfile)"
   ]
  },
  {
   "cell_type": "code",
   "execution_count": 25,
   "id": "17fab4e3",
   "metadata": {},
   "outputs": [],
   "source": [
    "from zipfile import ZipFile\n",
    "import os"
   ]
  },
  {
   "cell_type": "code",
   "execution_count": 39,
   "id": "46a81611",
   "metadata": {},
   "outputs": [],
   "source": [
    "path = 'D:\\Downloads\\ZippedStates'\n",
    "lst_of_zips = os.listdir(path)\n",
    "\n",
    "dest_path = r'D:\\Downloads\\UnZippedStates'\n"
   ]
  },
  {
   "cell_type": "code",
   "execution_count": 40,
   "id": "075411ac",
   "metadata": {},
   "outputs": [],
   "source": [
    "for i in lst_of_zips:\n",
    "    i_path = path + '\\\\' + i\n",
    "    with ZipFile(i_path, 'r') as zObject:\n",
    "        kml = zObject.namelist()[2]\n",
    "        name = i[:len(i)-4]\n",
    "        zObject.extract(kml, dest_path+'\\\\'+ name)\n",
    "        "
   ]
  },
  {
   "cell_type": "code",
   "execution_count": 44,
   "id": "c2d9a6cc",
   "metadata": {},
   "outputs": [
    {
     "name": "stdout",
     "output_type": "stream",
     "text": [
      "['Alabama', 'Alaska', 'Arizona', 'Arkansas', 'California', 'Colorado', 'Connecticut', 'DC', 'Delaware', 'Florida', 'Georgia', 'Hawaii', 'Idaho', 'Illinois', 'Indiana', 'Iowa', 'Kansas', 'Kentucky', 'Louisiana', 'Maine', 'Maryland', 'Massachusetts', 'Michigan', 'Minnesota', 'Mississippi', 'Missouri', 'Montana', 'Nebraska', 'Nevada', 'New Hampshire', 'New Jersey', 'New Mexico', 'New York', 'North Carolina', 'North Dakota', 'Ohio', 'Oklahoma', 'Oregon', 'Pennsylvania', 'Rhode Island', 'South Carolina', 'South Dakota', 'Tennessee', 'Texas', 'Utah', 'Vermont', 'Virginia', 'Washington', 'West Virginia', 'Wisconsin', 'Wyoming']\n"
     ]
    }
   ],
   "source": [
    "lst_of_unzips = os.listdir(r'D:\\Downloads\\UnZippedStates')\n",
    "print(lst_of_unzips)"
   ]
  },
  {
   "cell_type": "code",
   "execution_count": 48,
   "id": "9a5a6d04",
   "metadata": {},
   "outputs": [],
   "source": [
    "for i in lst_of_unzips:\n",
    "    i_path = 'D:\\\\Downloads\\\\UnZippedStates\\\\' + i\n",
    "    old_name = os.listdir(i_path)[0]\n",
    "    os.rename(i_path + '\\\\' + old_name , 'D:\\\\Downloads\\\\UnZippedStates\\\\' + i + '.kml')\n",
    "    "
   ]
  },
  {
   "cell_type": "code",
   "execution_count": 58,
   "id": "3bdbd54c",
   "metadata": {},
   "outputs": [],
   "source": [
    "geo_path = r'D:\\Downloads\\GeoJsonFiles'\n",
    "cleaned_path = r'D\\Downloads\\CleanedJsFiles'\n",
    "\n",
    "lst_of_geoJson = os.listdir(geo_path)\n",
    "\n",
    "for i in lst_of_geoJson:\n",
    "    i_path = geo_path + '\\\\' + i\n",
    "    name = i[:len(i) - 5]\n",
    "    fix_json_file(name, i_path)"
   ]
  },
  {
   "cell_type": "code",
   "execution_count": null,
   "id": "b1cfc721",
   "metadata": {},
   "outputs": [],
   "source": []
  }
 ],
 "metadata": {
  "kernelspec": {
   "display_name": "Python 3 (ipykernel)",
   "language": "python",
   "name": "python3"
  },
  "language_info": {
   "codemirror_mode": {
    "name": "ipython",
    "version": 3
   },
   "file_extension": ".py",
   "mimetype": "text/x-python",
   "name": "python",
   "nbconvert_exporter": "python",
   "pygments_lexer": "ipython3",
   "version": "3.9.7"
  }
 },
 "nbformat": 4,
 "nbformat_minor": 5
}
