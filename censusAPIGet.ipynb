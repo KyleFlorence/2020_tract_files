{
 "cells": [
  {
   "cell_type": "code",
   "execution_count": 1,
   "id": "ff505962",
   "metadata": {},
   "outputs": [],
   "source": [
    "import requests"
   ]
  },
  {
   "cell_type": "code",
   "execution_count": 16,
   "id": "d794715d",
   "metadata": {},
   "outputs": [],
   "source": [
    "# Build request\n",
    "street = '25 Alison Ln'\n",
    "city = 'Wethersfield'\n",
    "state = 'CT'\n",
    "zipcode = '06109'\n",
    "url = 'https://geocoding.geo.census.gov/geocoder/geographies/address?street={}&city={}&state={}&zip={}&benchmark=2020&vintage=2020&layers=10&format=json'.format(street, city, state, zipcode)\n",
    "\n",
    "# Get geocoding response\n",
    "response = requests.get(url)\n",
    "\n",
    "# There may be multiple matches but I only care about the first\n",
    "matches = response.json()['result']['addressMatches'][0]['geographies']['Census Blocks'][0]\n",
    "tract = matches['STATE'] + matches['COUNTY'] + matches['TRACT']"
   ]
  },
  {
   "cell_type": "code",
   "execution_count": 17,
   "id": "31a666fa",
   "metadata": {},
   "outputs": [
    {
     "data": {
      "text/plain": [
       "'09003492100'"
      ]
     },
     "execution_count": 17,
     "metadata": {},
     "output_type": "execute_result"
    }
   ],
   "source": [
    "tract"
   ]
  },
  {
   "cell_type": "code",
   "execution_count": null,
   "id": "fe87ca6b",
   "metadata": {},
   "outputs": [],
   "source": []
  }
 ],
 "metadata": {
  "kernelspec": {
   "display_name": "Python 3 (ipykernel)",
   "language": "python",
   "name": "python3"
  },
  "language_info": {
   "codemirror_mode": {
    "name": "ipython",
    "version": 3
   },
   "file_extension": ".py",
   "mimetype": "text/x-python",
   "name": "python",
   "nbconvert_exporter": "python",
   "pygments_lexer": "ipython3",
   "version": "3.9.7"
  }
 },
 "nbformat": 4,
 "nbformat_minor": 5
}
